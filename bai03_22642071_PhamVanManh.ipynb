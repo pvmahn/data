{
 "cells": [
  {
   "cell_type": "markdown",
   "id": "fa211a36-96b4-45f0-9896-8e55a9bda099",
   "metadata": {},
   "source": [
    "Bai 1: Sử dụng isPrime như thư viện math.sqrt và làm lại bài in ra 15 số nguyên tố lớn\r",
    "hơn hoặc bằng n với n nhập vào từ bàn phím."
   ]
  },
  {
   "cell_type": "code",
   "execution_count": 61,
   "id": "0201b3a6-11c4-4cd0-80c4-7d5d6f4a6540",
   "metadata": {},
   "outputs": [
    {
     "name": "stdin",
     "output_type": "stream",
     "text": [
      "Nhap vao n so nguyen:  11\n"
     ]
    },
    {
     "name": "stdout",
     "output_type": "stream",
     "text": [
      "11 13 17 19 23 29 31 37 41 43 47 53 59 61 67 "
     ]
    }
   ],
   "source": [
    "from math import sqrt\n",
    "\n",
    "def isPrime(x):\n",
    "    if x < 2:\n",
    "        return False\n",
    "    else:\n",
    "        for i in range(2, int(sqrt(x)) + 1):\n",
    "            if x % i == 0:\n",
    "                return False\n",
    "    return True\n",
    "\n",
    "if __name__ == \"__main__\":\n",
    "    n = int(input(\"Nhap vao n so nguyen: \"))\n",
    "    count_prime = 0\n",
    "    while count_prime<15:\n",
    "        if isPrime(n):\n",
    "            print(n,end=\" \")\n",
    "            count_prime+=1\n",
    "        n+=1"
   ]
  },
  {
   "cell_type": "markdown",
   "id": "a014df5a-308f-4b2d-801a-5961a7ad57a1",
   "metadata": {},
   "source": [
    "Bài 2:\n",
    "Tìm số Fibonacci thứ n sử dụng lambda function (lập trình hàm)\n",
    "Biết rằng dãy số Fibonacci thứ n như sau:\n",
    "n 1 2 3 4 5 6 7 8 9 10 …\n",
    "F 1 1 2 3 5 8 13 21 34 55 …. F(n) = F(n-1) + F(n-2)"
   ]
  },
  {
   "cell_type": "code",
   "execution_count": 37,
   "id": "dbd88c47-451e-4cc8-929a-2cb9ddcacbc4",
   "metadata": {},
   "outputs": [
    {
     "name": "stdin",
     "output_type": "stream",
     "text": [
      "nhap so nguyen n: 8\n"
     ]
    },
    {
     "name": "stdout",
     "output_type": "stream",
     "text": [
      "So Fibonacci thu 8 la: 21\n"
     ]
    }
   ],
   "source": [
    "Fibonacci = lambda n: n if n<=1 else Fibonacci(n-1) + Fibonacci(n-2)\n",
    "n=int(input(\"nhap so nguyen n:\"))\n",
    "res = Fibonacci(n)\n",
    "print(\"So Fibonacci thu {} la: {}\".format(n,res))"
   ]
  },
  {
   "cell_type": "markdown",
   "id": "ff4eb6f0-f5e1-456f-81eb-f59613765dd2",
   "metadata": {},
   "source": [
    "Bài 3:\r\n",
    "Vào một chuỗi, kiểm tra chuỗi đó có phải là chuỗi đối xứng hay không?"
   ]
  },
  {
   "cell_type": "code",
   "execution_count": 44,
   "id": "44e77e97-bf88-4ca1-9cd6-b643d81a12cd",
   "metadata": {},
   "outputs": [
    {
     "name": "stdin",
     "output_type": "stream",
     "text": [
      "nhap chuoi s: abc123321cba\n"
     ]
    },
    {
     "name": "stdout",
     "output_type": "stream",
     "text": [
      "abc123321cba la chuoi doi xung\n"
     ]
    }
   ],
   "source": [
    "def check(chuoi):\n",
    "    s=\"\"\n",
    "    for char in chuoi:\n",
    "        if char.isalnum():\n",
    "            s+=char\n",
    "    s.lower()\n",
    "    return s==s[::-1]\n",
    "if __name__ == \"__main__\":\n",
    "    s=str(input(\"nhap chuoi s:\"))\n",
    "    if check(s):\n",
    "        print(f\"{s} la chuoi doi xung\")\n",
    "    else:\n",
    "        print(f\"{s} khong la chuoi doi xung\")"
   ]
  },
  {
   "cell_type": "markdown",
   "id": "5ef880ae-148b-48bf-b445-50442b6ebcec",
   "metadata": {},
   "source": [
    "Bài 4:\r\n",
    "Cho một dãy số L=[2,1,0,3,5,7,4,9]\r\n",
    "Tìm chuỗi con tăng dài nhất trong chuỗi đã cho, ở ví dụ trên 1 kết quả của chuỗi\r",
    "con tăng dài nhất có độ dài 5 là chuỗi [2,3,5,7,.9]"
   ]
  },
  {
   "cell_type": "code",
   "execution_count": 59,
   "id": "fb8ff804-78b3-4289-b077-62725df9f517",
   "metadata": {},
   "outputs": [
    {
     "name": "stdin",
     "output_type": "stream",
     "text": [
      "Nhập chuỗi số, cách nhau bởi dấu cách:  2 4 5 7 6 9 8 12 10\n"
     ]
    },
    {
     "name": "stdout",
     "output_type": "stream",
     "text": [
      "Chuỗi con tăng dài nhất: [2, 4, 5, 6, 8, 10]\n"
     ]
    }
   ],
   "source": [
    "def l_i_s(arr):\n",
    "    lis = [1] * len(arr)\n",
    "    for i in range(1, len(arr)):\n",
    "        for j in range(0, i):\n",
    "            if arr[i] > arr[j] and lis[i] < lis[j] + 1:\n",
    "                lis[i] = lis[j] + 1\n",
    "    max_length = max(lis)\n",
    "    result = []\n",
    "    for i in range(len(arr) - 1, -1, -1):\n",
    "        if lis[i] == max_length:\n",
    "            result.append(arr[i])\n",
    "            max_length -= 1\n",
    "    return result[::-1]\n",
    "L = input(\"Nhập chuỗi số, cách nhau bởi dấu cách: \")\n",
    "arr = list(map(int, L.split()))\n",
    "result = l_i_s(arr)\n",
    "print(\"Chuỗi con tăng dài nhất:\", result)"
   ]
  },
  {
   "cell_type": "markdown",
   "id": "b6929e70-8e6e-44ec-a1c8-b0df14d66b4a",
   "metadata": {},
   "source": [
    "Bài 5:\n",
    "Cho 2 chuỗi a,b, tìm xâu con chung dài nhất của 2 chuỗi trên\n",
    "Ví dụ a=”abcdefgh”, b=”fbcdhgi”, kết quả là “bcd”."
   ]
  },
  {
   "cell_type": "code",
   "execution_count": 60,
   "id": "2b35eb11-dbd2-4788-864b-977a07d0224c",
   "metadata": {},
   "outputs": [
    {
     "name": "stdin",
     "output_type": "stream",
     "text": [
      "Nhập chuỗi a:  abcdef\n",
      "Nhập chuỗi b:  abcdgrh\n"
     ]
    },
    {
     "name": "stdout",
     "output_type": "stream",
     "text": [
      "Xâu con chung dài nhất: abcd\n"
     ]
    }
   ],
   "source": [
    "def tim_xau_con_chung_dai_nhat(chuoi_a, chuoi_b):\n",
    "    do_dai_a = len(chuoi_a)\n",
    "    do_dai_b = len(chuoi_b)\n",
    "    bang_dp = [[0] * (do_dai_b + 1) for _ in range(do_dai_a + 1)]\n",
    "    do_dai_lon_nhat = 0\n",
    "    vi_tri_cuoi_a = 0\n",
    "    for i in range(1, do_dai_a + 1):\n",
    "        for j in range(1, do_dai_b + 1):\n",
    "            if chuoi_a[i - 1] == chuoi_b[j - 1]:\n",
    "                bang_dp[i][j] = bang_dp[i - 1][j - 1] + 1\n",
    "                if bang_dp[i][j] > do_dai_lon_nhat:\n",
    "                    do_dai_lon_nhat = bang_dp[i][j]\n",
    "                    vi_tri_cuoi_a = i - 1\n",
    "            else:\n",
    "                bang_dp[i][j] = 0\n",
    "    xau_con_chung = chuoi_a[vi_tri_cuoi_a - do_dai_lon_nhat + 1 : vi_tri_cuoi_a + 1]\n",
    "    return xau_con_chung\n",
    "chuoi_a = input(\"Nhập chuỗi a: \")\n",
    "chuoi_b = input(\"Nhập chuỗi b: \")\n",
    "ket_qua = tim_xau_con_chung_dai_nhat(chuoi_a, chuoi_b)\n",
    "print(\"Xâu con chung dài nhất:\", ket_qua)"
   ]
  },
  {
   "cell_type": "code",
   "execution_count": null,
   "id": "311459ab-0152-4408-895a-0c87e840f2b9",
   "metadata": {},
   "outputs": [],
   "source": []
  }
 ],
 "metadata": {
  "kernelspec": {
   "display_name": "Python 3 (ipykernel)",
   "language": "python",
   "name": "python3"
  },
  "language_info": {
   "codemirror_mode": {
    "name": "ipython",
    "version": 3
   },
   "file_extension": ".py",
   "mimetype": "text/x-python",
   "name": "python",
   "nbconvert_exporter": "python",
   "pygments_lexer": "ipython3",
   "version": "3.11.5"
  }
 },
 "nbformat": 4,
 "nbformat_minor": 5
}
